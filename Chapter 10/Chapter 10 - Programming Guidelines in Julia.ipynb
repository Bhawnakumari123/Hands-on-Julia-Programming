{
 "cells": [
  {
   "cell_type": "markdown",
   "metadata": {},
   "source": [
    "# Chapter 10: Programming Guidelines in Julia\n",
    "This notebook contains the sample source code explained in the book *Hands-On Julia Programming, Sambit Kumar Dash, 2021, bpb Publications. All Rights Reserved*."
   ]
  },
  {
   "cell_type": "code",
   "execution_count": 1,
   "metadata": {},
   "outputs": [
    {
     "name": "stderr",
     "output_type": "stream",
     "text": [
      "\u001b[32m\u001b[1m  Activating\u001b[22m\u001b[39m environment at `C:\\Hands-on-Julia-Programming-main\\Chapter 10\\Project.toml`\n"
     ]
    }
   ],
   "source": [
    "using Pkg\n",
    "pkg\"activate .\"\n",
    "pkg\"instantiate\""
   ]
  },
  {
   "cell_type": "markdown",
   "metadata": {},
   "source": [
    "## 10.1 Introduction"
   ]
  },
  {
   "cell_type": "markdown",
   "metadata": {},
   "source": [
    "## 10.2 Guidelines for Maintainability"
   ]
  },
  {
   "cell_type": "markdown",
   "metadata": {},
   "source": [
    "**Use Functions**"
   ]
  },
  {
   "cell_type": "markdown",
   "metadata": {},
   "source": [
    "**Code must be generalized and not type specific**"
   ]
  },
  {
   "cell_type": "code",
   "execution_count": 2,
   "metadata": {},
   "outputs": [
    {
     "data": {
      "text/plain": [
       "addone (generic function with 1 method)"
      ]
     },
     "execution_count": 2,
     "metadata": {},
     "output_type": "execute_result"
    }
   ],
   "source": [
    "addone(x) = x + one(x)"
   ]
  },
  {
   "cell_type": "code",
   "execution_count": 3,
   "metadata": {},
   "outputs": [
    {
     "data": {
      "text/plain": [
       "(6, 6.0, 6.0f0)"
      ]
     },
     "execution_count": 3,
     "metadata": {},
     "output_type": "execute_result"
    }
   ],
   "source": [
    "addone(5), addone(5.0), addone(5f0)"
   ]
  },
  {
   "cell_type": "markdown",
   "metadata": {},
   "source": [
    "**Keep function scope narrow if that is the intent**"
   ]
  },
  {
   "cell_type": "code",
   "execution_count": 4,
   "metadata": {},
   "outputs": [
    {
     "data": {
      "text/plain": [
       "false"
      ]
     },
     "execution_count": 4,
     "metadata": {},
     "output_type": "execute_result"
    }
   ],
   "source": [
    "calc1() = 2, 1\n",
    "calc2() = 1.1, 1.2\n",
    "\n",
    "myvalidate(x::Int, y::Int) = x == y\n",
    "\n",
    "myvalidate(calc1()...)"
   ]
  },
  {
   "cell_type": "code",
   "execution_count": 5,
   "metadata": {},
   "outputs": [
    {
     "ename": "LoadError",
     "evalue": "MethodError: no method matching myvalidate(::Float64, ::Float64)",
     "output_type": "error",
     "traceback": [
      "MethodError: no method matching myvalidate(::Float64, ::Float64)",
      "",
      "Stacktrace:",
      " [1] top-level scope",
      "   @ In[5]:1",
      " [2] eval",
      "   @ .\\boot.jl:360 [inlined]",
      " [3] include_string(mapexpr::typeof(REPL.softscope), mod::Module, code::String, filename::String)",
      "   @ Base .\\loading.jl:1116"
     ]
    }
   ],
   "source": [
    "myvalidate(calc2()...)"
   ]
  },
  {
   "cell_type": "code",
   "execution_count": 6,
   "metadata": {},
   "outputs": [
    {
     "data": {
      "text/plain": [
       "false"
      ]
     },
     "execution_count": 6,
     "metadata": {},
     "output_type": "execute_result"
    }
   ],
   "source": [
    "function myvalidate2(x, y)\n",
    "    xi, yi = Int(x), Int(y)\n",
    "    return xi == yi\n",
    "end\n",
    "\n",
    "myvalidate2(2, 3.0)"
   ]
  },
  {
   "cell_type": "code",
   "execution_count": 7,
   "metadata": {},
   "outputs": [
    {
     "data": {
      "text/plain": [
       "false"
      ]
     },
     "execution_count": 7,
     "metadata": {},
     "output_type": "execute_result"
    }
   ],
   "source": [
    "myvalidate(2, Int(3.0))"
   ]
  },
  {
   "cell_type": "markdown",
   "metadata": {},
   "source": [
    "**Append exclamation mark (!) to function that change parameters**"
   ]
  },
  {
   "cell_type": "code",
   "execution_count": 8,
   "metadata": {},
   "outputs": [
    {
     "data": {
      "text/plain": [
       "3-element Vector{Int64}:\n",
       " 2\n",
       " 4\n",
       " 6"
      ]
     },
     "execution_count": 8,
     "metadata": {},
     "output_type": "execute_result"
    }
   ],
   "source": [
    "function double!(v::Vector)\n",
    "    for i=firstindex(v):lastindex(v)\n",
    "        v[i] *= 2\n",
    "    end\n",
    "    return v\n",
    "end\n",
    "\n",
    "double!([1,2,3])"
   ]
  },
  {
   "cell_type": "markdown",
   "metadata": {},
   "source": [
    "**Avoid complex data types**"
   ]
  },
  {
   "cell_type": "markdown",
   "metadata": {},
   "source": [
    "**Use function arguments matching to Base**"
   ]
  },
  {
   "cell_type": "code",
   "execution_count": 9,
   "metadata": {},
   "outputs": [
    {
     "data": {
      "text/plain": [
       "3-element Vector{Int64}:\n",
       " 2\n",
       " 4\n",
       " 6"
      ]
     },
     "execution_count": 9,
     "metadata": {},
     "output_type": "execute_result"
    }
   ],
   "source": [
    "mymap(f, arr) = f.(arr)\n",
    "\n",
    "mymap([1, 2, 3]) do x\n",
    "    2x\n",
    "end"
   ]
  },
  {
   "cell_type": "markdown",
   "metadata": {},
   "source": [
    " **Judicious usage of static parameters**"
   ]
  },
  {
   "cell_type": "code",
   "execution_count": 10,
   "metadata": {},
   "outputs": [
    {
     "data": {
      "text/plain": [
       "double (generic function with 1 method)"
      ]
     },
     "execution_count": 10,
     "metadata": {},
     "output_type": "execute_result"
    }
   ],
   "source": [
    "double(x::T) where {T<:Real} = 2x"
   ]
  },
  {
   "cell_type": "code",
   "execution_count": 11,
   "metadata": {},
   "outputs": [
    {
     "data": {
      "text/plain": [
       "double (generic function with 1 method)"
      ]
     },
     "execution_count": 11,
     "metadata": {},
     "output_type": "execute_result"
    }
   ],
   "source": [
    "double(x::Real) = 2x"
   ]
  },
  {
   "cell_type": "code",
   "execution_count": 12,
   "metadata": {},
   "outputs": [
    {
     "data": {
      "text/html": [
       "# 1 method for generic function <b>double</b>:<ul><li> double(x::<b>Real</b>) in Main at In[11]:1</li> </ul>"
      ],
      "text/plain": [
       "# 1 method for generic function \"double\":\n",
       "[1] double(x::Real) in Main at In[11]:1"
      ]
     },
     "execution_count": 12,
     "metadata": {},
     "output_type": "execute_result"
    }
   ],
   "source": [
    "methods(double)"
   ]
  },
  {
   "cell_type": "code",
   "execution_count": 13,
   "metadata": {},
   "outputs": [
    {
     "data": {
      "text/plain": [
       "myeltype (generic function with 1 method)"
      ]
     },
     "execution_count": 13,
     "metadata": {},
     "output_type": "execute_result"
    }
   ],
   "source": [
    "myeltype(v::Vector{T}) where {T <: Real} = T"
   ]
  },
  {
   "cell_type": "code",
   "execution_count": 14,
   "metadata": {},
   "outputs": [
    {
     "data": {
      "text/plain": [
       "Float64"
      ]
     },
     "execution_count": 14,
     "metadata": {},
     "output_type": "execute_result"
    }
   ],
   "source": [
    "myeltype([1.0, 2, 3])"
   ]
  },
  {
   "cell_type": "markdown",
   "metadata": {},
   "source": [
    "**Do not overload Base methods for well defined data types**"
   ]
  },
  {
   "cell_type": "code",
   "execution_count": 15,
   "metadata": {},
   "outputs": [
    {
     "data": {
      "text/plain": [
       "Main.MyModule"
      ]
     },
     "execution_count": 15,
     "metadata": {},
     "output_type": "execute_result"
    }
   ],
   "source": [
    "module MyModule\n",
    "\n",
    "Base.:(*)(x::Symbol, y::Symbol) = Symbol(string(x)*string(y))\n",
    "\n",
    "end\n"
   ]
  },
  {
   "cell_type": "code",
   "execution_count": 16,
   "metadata": {},
   "outputs": [
    {
     "data": {
      "text/plain": [
       ":ab"
      ]
     },
     "execution_count": 16,
     "metadata": {},
     "output_type": "execute_result"
    }
   ],
   "source": [
    ":a*:b"
   ]
  },
  {
   "cell_type": "code",
   "execution_count": 17,
   "metadata": {},
   "outputs": [
    {
     "ename": "LoadError",
     "evalue": "UndefVarError: i not defined",
     "output_type": "error",
     "traceback": [
      "UndefVarError: i not defined",
      "",
      "Stacktrace:",
      " [1] top-level scope",
      "   @ In[17]:1",
      " [2] eval",
      "   @ .\\boot.jl:360 [inlined]",
      " [3] include_string(mapexpr::typeof(REPL.softscope), mod::Module, code::String, filename::String)",
      "   @ Base .\\loading.jl:1116"
     ]
    }
   ],
   "source": [
    "a = i > 0 ? 1 : -1"
   ]
  },
  {
   "cell_type": "markdown",
   "metadata": {},
   "source": [
    "**Use try…catch only when absolutely needed**"
   ]
  },
  {
   "cell_type": "markdown",
   "metadata": {},
   "source": [
    "### Coding Style\n",
    "\n",
    "**Indentation**\n",
    "\n",
    "```\n",
    "for i = 1:200\n",
    "    if a != 0\n",
    "        if b != 0 \n",
    "            # Do something\n",
    "        end\n",
    "    end\n",
    "end\n",
    "```\n",
    "\n",
    "vs. \n",
    "\n",
    "```\n",
    "for i = 1:200\n",
    "    (a == 0 || b == 0) && continue\n",
    "    # Do something \n",
    "end\n",
    "```\n",
    "\n",
    "**Use of Brackets**\n",
    "\n",
    "```\n",
    "if a == 0 && b == 0\n",
    "    # Do something\n",
    "end\n",
    "```\n",
    "is preferred over\n",
    "\n",
    "```\n",
    "if (a == 0) && (b == 0)\n",
    "    # Do something\n",
    "end\n",
    "```\n",
    "\n",
    "**Whitespaces around operators**\n",
    "\n",
    "`f(arg1, key=v+1)` is preferred over `f(arg1, key = v + 1)`\n",
    "\n",
    "**Define multiline functions with the verbose syntax**\n",
    "\n",
    "The code is correct but the style is not preferred. \n",
    "\n",
    "```\n",
    "F(x) = begin\n",
    "    if iseven(x)\n",
    "        2x\n",
    "    else\n",
    "        3x\n",
    "    end\n",
    "end\n",
    "```\n",
    "\n",
    "The following styles are better. \n",
    "\n",
    "```\n",
    "function F(x) \n",
    "    if iseven(x)\n",
    "        return 2x\n",
    "    else\n",
    "        return 3x\n",
    "    end\n",
    "end\n",
    "```\n",
    "\n",
    "or\n",
    "\n",
    "```\n",
    "F(x) = iseven(x) ? 2x : 3x\n",
    "```\n",
    "\n",
    "The less verbose code is normally given preference. \n",
    "\n",
    "**Character length limits of a line**\n",
    "\n",
    "\n",
    "\n"
   ]
  },
  {
   "cell_type": "markdown",
   "metadata": {},
   "source": [
    "## 10.3 Functional Programming Principles\n",
    "\n",
    "### Declarative Programming\n",
    "\n",
    "While both pieces of code achieve the same functionality the second one is cleaner and is more like a declarative style of programming. "
   ]
  },
  {
   "cell_type": "code",
   "execution_count": 18,
   "metadata": {},
   "outputs": [
    {
     "name": "stdout",
     "output_type": "stream",
     "text": [
      "1\n",
      "2\n",
      "3\n"
     ]
    }
   ],
   "source": [
    "a = [1, 2, 3]\n",
    "for i=firstindex(a):lastindex(a)\n",
    "    println(a[i])\n",
    "end"
   ]
  },
  {
   "cell_type": "code",
   "execution_count": 19,
   "metadata": {},
   "outputs": [
    {
     "name": "stdout",
     "output_type": "stream",
     "text": [
      "1\n",
      "2\n",
      "3\n"
     ]
    }
   ],
   "source": [
    "foreach(println, a)"
   ]
  },
  {
   "cell_type": "markdown",
   "metadata": {},
   "source": [
    "### Functions with no side-effects\n",
    "\n",
    "The method `pop!` below modifies the argument, hence is a function with side effects. In Julia, a function that modifies the argument's state is typically specified with an exclamation (!) character at the end. Sometimes such methods help in better memory allocations and better optimized; hence preferred. "
   ]
  },
  {
   "cell_type": "code",
   "execution_count": 20,
   "metadata": {},
   "outputs": [
    {
     "data": {
      "text/plain": [
       "2-element Vector{Int64}:\n",
       " 1\n",
       " 2"
      ]
     },
     "execution_count": 20,
     "metadata": {},
     "output_type": "execute_result"
    }
   ],
   "source": [
    "a = [1, 2, 3]\n",
    "pop!(a)\n",
    "a"
   ]
  },
  {
   "cell_type": "markdown",
   "metadata": {},
   "source": [
    "### Higher Order Functions\n",
    "\n",
    "Ways to define function of a function. "
   ]
  },
  {
   "cell_type": "code",
   "execution_count": 21,
   "metadata": {},
   "outputs": [
    {
     "data": {
      "text/plain": [
       "36"
      ]
     },
     "execution_count": 21,
     "metadata": {},
     "output_type": "execute_result"
    }
   ],
   "source": [
    "f(x) = 2x\n",
    "g(x) = x*x\n",
    "h = g ∘ f\n",
    "h(3)\n",
    "36\n"
   ]
  },
  {
   "cell_type": "markdown",
   "metadata": {},
   "source": [
    "### Immutability\n",
    "\n",
    "While functions without side effects are easier to debug, knowing some data structures are not mutable ensures they can be packed into a memory layout that is easier to manage. `struct` and `mutable struct` help you achieve the same. "
   ]
  },
  {
   "cell_type": "markdown",
   "metadata": {},
   "source": [
    "## 10.4 Commonly Used Patterns\n",
    "\n",
    "### Interfaces\n",
    "\n",
    "Interfaces in Julia do not have to be named. A function definition can act as an interface. \n",
    "\n",
    "The module `geom` has two methods, `area` and `bbox` for geometric shapes. "
   ]
  },
  {
   "cell_type": "code",
   "execution_count": 22,
   "metadata": {},
   "outputs": [
    {
     "data": {
      "text/plain": [
       "Main.geom"
      ]
     },
     "execution_count": 22,
     "metadata": {},
     "output_type": "execute_result"
    }
   ],
   "source": [
    "module geom\n",
    "# All shape objects must have implementation for the following methods.\n",
    "# area(x): shall return the area of a 2-D shape\n",
    "function area end\n",
    "# bbox(x): shall return the bounding box of a 2-D shape\n",
    "function bbox end\n",
    "end "
   ]
  },
  {
   "cell_type": "markdown",
   "metadata": {},
   "source": [
    "A **hard interface** throws an error if not implemented. "
   ]
  },
  {
   "cell_type": "code",
   "execution_count": 23,
   "metadata": {},
   "outputs": [
    {
     "name": "stderr",
     "output_type": "stream",
     "text": [
      "WARNING: replacing module geom.\n"
     ]
    },
    {
     "data": {
      "text/plain": [
       "Rectangle(0, 0, 10, 20)"
      ]
     },
     "execution_count": 23,
     "metadata": {},
     "output_type": "execute_result"
    }
   ],
   "source": [
    "module geom\n",
    "area(x) = throw(Base.MethodError(area, (x,)))\n",
    "bbox(x) = throw(Base.MethodError(bbox, (x,)))\n",
    "\n",
    "struct Rectangle\n",
    "   x; y; w; h\n",
    "end\n",
    "export Rectangle, area, bbox\n",
    "end\n",
    "using .geom\n",
    "r = Rectangle(0, 0, 10, 20)"
   ]
  },
  {
   "cell_type": "code",
   "execution_count": 24,
   "metadata": {},
   "outputs": [
    {
     "ename": "LoadError",
     "evalue": "MethodError: no method matching area(::Rectangle)\n\u001b[0mClosest candidates are:\n\u001b[0m  area(::Any) at In[23]:2",
     "output_type": "error",
     "traceback": [
      "MethodError: no method matching area(::Rectangle)\n\u001b[0mClosest candidates are:\n\u001b[0m  area(::Any) at In[23]:2",
      "",
      "Stacktrace:",
      " [1] area(x::Rectangle)",
      "   @ Main.geom .\\In[23]:2",
      " [2] top-level scope",
      "   @ In[24]:1",
      " [3] eval",
      "   @ .\\boot.jl:360 [inlined]",
      " [4] include_string(mapexpr::typeof(REPL.softscope), mod::Module, code::String, filename::String)",
      "   @ Base .\\loading.jl:1116"
     ]
    }
   ],
   "source": [
    "area(r)"
   ]
  },
  {
   "cell_type": "markdown",
   "metadata": {},
   "source": [
    "A **soft interface** that just passes the input through. You could return `nothing` as well. "
   ]
  },
  {
   "cell_type": "code",
   "execution_count": 25,
   "metadata": {},
   "outputs": [
    {
     "data": {
      "text/plain": [
       "Main.geom1.Rectangle(0, 0, 10, 20)"
      ]
     },
     "execution_count": 25,
     "metadata": {},
     "output_type": "execute_result"
    }
   ],
   "source": [
    "module geom1\n",
    "area(x) = identity(x)\n",
    "bbox(x) = identity(x)\n",
    "\n",
    "struct Rectangle\n",
    "   x; y; w; h\n",
    "end\n",
    "export Rectangle, area, bbox\n",
    "end\n",
    "r = geom1.Rectangle(0, 0, 10, 20)"
   ]
  },
  {
   "cell_type": "code",
   "execution_count": 26,
   "metadata": {},
   "outputs": [
    {
     "data": {
      "text/plain": [
       "Main.geom1.Rectangle(0, 0, 10, 20)"
      ]
     },
     "execution_count": 26,
     "metadata": {},
     "output_type": "execute_result"
    }
   ],
   "source": [
    "geom1.area(r)"
   ]
  },
  {
   "cell_type": "markdown",
   "metadata": {},
   "source": [
    "### SuperTypes\n",
    "\n",
    "Trying to abstract all the interfaces to a type `Shape`"
   ]
  },
  {
   "cell_type": "code",
   "execution_count": 27,
   "metadata": {},
   "outputs": [
    {
     "data": {
      "text/plain": [
       "Main.geom2.Rectangle(0, 0, 10, 20)"
      ]
     },
     "execution_count": 27,
     "metadata": {},
     "output_type": "execute_result"
    }
   ],
   "source": [
    "module geom2\n",
    "abstract type Shape end\n",
    "area(x::Shape) = nothing\n",
    "bbox(x::Shape) = nothing\n",
    "\n",
    "struct Rectangle <: Shape\n",
    "   x; y; w; h\n",
    "end\n",
    "end\n",
    "r = geom2.Rectangle(0, 0, 10, 20)\n",
    "Main.geom2.Rectangle(0, 0, 10, 20)"
   ]
  },
  {
   "cell_type": "code",
   "execution_count": 28,
   "metadata": {},
   "outputs": [],
   "source": [
    "geom2.area(r)"
   ]
  },
  {
   "cell_type": "markdown",
   "metadata": {},
   "source": [
    "Let's add a `Polygon` type.\n",
    "\n",
    "```\n",
    "module geom2\n",
    "…\n",
    "struct Polygon <: Shape\n",
    "    pts::Vector{Tuple{Any, Any}}\n",
    "end\n",
    "…\n",
    "end\n",
    "```\n",
    "\n",
    "Adding a `Polygon` was easy but adding a `PolyLine` introduce additional complexities. `PolyLine` being an `OpenShape` does not have `area` while `Polygon` is a `ClosedShape` and has `area` method. "
   ]
  },
  {
   "cell_type": "code",
   "execution_count": 29,
   "metadata": {},
   "outputs": [
    {
     "data": {
      "text/plain": [
       "Main.geom3"
      ]
     },
     "execution_count": 29,
     "metadata": {},
     "output_type": "execute_result"
    }
   ],
   "source": [
    "module geom3\n",
    "abstract type Shape end\n",
    "bbox(x::Shape) = nothing\n",
    "\n",
    "abstract type OpenShape end\n",
    "\n",
    "struct PolyLine <: OpenShape\n",
    "    pts::Vector{Tuple{Any, Any}}\n",
    "end\n",
    "\n",
    "abstract type ClosedShape end\n",
    "area(x::ClosedShape) = nothing\n",
    "\n",
    "struct Rectangle <: ClosedShape\n",
    "   x; y; w; h\n",
    "end\n",
    "\n",
    "struct Polygon <: ClosedShape\n",
    "    pts::Vector{Tuple{Any, Any}}\n",
    "end\n",
    "\n",
    "end"
   ]
  },
  {
   "cell_type": "markdown",
   "metadata": {},
   "source": [
    "### Holy Traits\n",
    "\n",
    "With `Traits` or `Holy Traits` the same can be achieved easily. `HasAreaTrait` type and method combination provide a unique design pattern. "
   ]
  },
  {
   "cell_type": "code",
   "execution_count": 30,
   "metadata": {},
   "outputs": [
    {
     "data": {
      "text/plain": [
       "Main.geom4.PolyLine(Tuple{Any, Any}[(0, 0), (10, 0), (10, 20), (0, 20)])"
      ]
     },
     "execution_count": 30,
     "metadata": {},
     "output_type": "execute_result"
    }
   ],
   "source": [
    "module geom4\n",
    "abstract type Shape end\n",
    "bbox(x::Shape) = nothing\n",
    "\n",
    "struct PolyLine <: Shape\n",
    "    pts::Vector{Tuple{Any, Any}}\n",
    "end\n",
    "\n",
    "struct Rectangle <: Shape\n",
    "   x; y; w; h\n",
    "end\n",
    "\n",
    "struct Polygon <: Shape\n",
    "    pts::Vector{Tuple{Any, Any}}\n",
    "end\n",
    "\n",
    "abstract type HasAreaTrait end\n",
    "struct HasArea <: HasAreaTrait end\n",
    "struct HasNoArea <: HasAreaTrait end\n",
    "\n",
    "HasAreaTrait(::Type) = HasNoArea()\n",
    "HasAreaTrait(::Type{Polygon}) = HasArea()\n",
    "HasAreaTrait(::Type{Rectangle}) = HasArea()\n",
    "\n",
    "area(x::T) where {T<:Shape} = area(HasAreaTrait(T), x)\n",
    "area(::HasArea, x::T) where {T <: Shape} = error(\"area(::HasArea, $T) method must be implemented\")\n",
    "area(::HasArea, r::Rectangle) = r.w*r.h\n",
    "\n",
    "end\n",
    "\n",
    "r = geom4.Rectangle(0, 0, 10, 20)\n",
    "pg = geom4.Polygon([(0, 0), (10, 0), (10, 20), (0, 20)])\n",
    "pl = geom4.PolyLine([(0, 0), (10, 0), (10, 20), (0, 20)])"
   ]
  },
  {
   "cell_type": "code",
   "execution_count": 31,
   "metadata": {},
   "outputs": [
    {
     "data": {
      "text/plain": [
       "200"
      ]
     },
     "execution_count": 31,
     "metadata": {},
     "output_type": "execute_result"
    }
   ],
   "source": [
    "geom4.area(geom4.Rectangle(0, 0, 10, 20))"
   ]
  },
  {
   "cell_type": "code",
   "execution_count": 32,
   "metadata": {},
   "outputs": [
    {
     "ename": "LoadError",
     "evalue": "area(::HasArea, Main.geom4.Polygon) method must be implemented",
     "output_type": "error",
     "traceback": [
      "area(::HasArea, Main.geom4.Polygon) method must be implemented",
      "",
      "Stacktrace:",
      " [1] error(s::String)",
      "   @ Base .\\error.jl:33",
      " [2] area(#unused#::Main.geom4.HasArea, x::Main.geom4.Polygon)",
      "   @ Main.geom4 .\\In[30]:26",
      " [3] area(x::Main.geom4.Polygon)",
      "   @ Main.geom4 .\\In[30]:25",
      " [4] top-level scope",
      "   @ In[32]:1",
      " [5] eval",
      "   @ .\\boot.jl:360 [inlined]",
      " [6] include_string(mapexpr::typeof(REPL.softscope), mod::Module, code::String, filename::String)",
      "   @ Base .\\loading.jl:1116"
     ]
    }
   ],
   "source": [
    "geom4.area(geom4.Polygon([(0, 0), (10, 0), (10, 20), (0, 20)]))"
   ]
  },
  {
   "cell_type": "code",
   "execution_count": 33,
   "metadata": {},
   "outputs": [
    {
     "ename": "LoadError",
     "evalue": "MethodError: no method matching area(::Main.geom4.HasNoArea, ::Main.geom4.PolyLine)\n\u001b[0mClosest candidates are:\n\u001b[0m  area(\u001b[91m::Main.geom4.HasArea\u001b[39m, ::T) where T<:Main.geom4.Shape at In[30]:26",
     "output_type": "error",
     "traceback": [
      "MethodError: no method matching area(::Main.geom4.HasNoArea, ::Main.geom4.PolyLine)\n\u001b[0mClosest candidates are:\n\u001b[0m  area(\u001b[91m::Main.geom4.HasArea\u001b[39m, ::T) where T<:Main.geom4.Shape at In[30]:26",
      "",
      "Stacktrace:",
      " [1] area(x::Main.geom4.PolyLine)",
      "   @ Main.geom4 .\\In[30]:25",
      " [2] top-level scope",
      "   @ In[33]:1",
      " [3] eval",
      "   @ .\\boot.jl:360 [inlined]",
      " [4] include_string(mapexpr::typeof(REPL.softscope), mod::Module, code::String, filename::String)",
      "   @ Base .\\loading.jl:1116"
     ]
    }
   ],
   "source": [
    "geom4.area(geom4.PolyLine([(0, 0), (10, 0), (10, 20), (0, 20)]))"
   ]
  },
  {
   "cell_type": "markdown",
   "metadata": {},
   "source": [
    "### Delegation\n",
    "\n",
    "Writing the same code again and again can be cumbersome. `Square` type here is aggregating a `Rectangle` object and delegating the methods to the already implemented method of the `Rectangle` type. "
   ]
  },
  {
   "cell_type": "code",
   "execution_count": 34,
   "metadata": {},
   "outputs": [
    {
     "name": "stderr",
     "output_type": "stream",
     "text": [
      "WARNING: replacing module geom4.\n"
     ]
    },
    {
     "data": {
      "text/plain": [
       "Main.geom4"
      ]
     },
     "execution_count": 34,
     "metadata": {},
     "output_type": "execute_result"
    }
   ],
   "source": [
    "module geom4\n",
    "abstract type Shape end\n",
    "bbox(x::Shape) = nothing\n",
    "\n",
    "struct Rectangle <: Shape\n",
    "   x; y; w; h\n",
    "end\n",
    "\n",
    "bbox(x::Rectangle) = x\n",
    "\n",
    "### Square has Rectangle as an attribute ###\n",
    "\n",
    "struct Square <: Shape\n",
    "    r::Rectangle\n",
    "    Square(x, y, w) = new(Rectangle(x, y, w, w))\n",
    "end\n",
    "\n",
    "abstract type HasAreaTrait end\n",
    "struct HasArea <: HasAreaTrait end\n",
    "struct HasNoArea <: HasAreaTrait end\n",
    "\n",
    "HasAreaTrait(::Type) = HasNoArea()\n",
    "HasAreaTrait(::Type{Rectangle}) = HasArea()\n",
    "\n",
    "area(x::T) where {T<:Shape} = area(HasAreaTrait(T), x)\n",
    "area(::HasArea, x::T) where {T <: Shape} = error(\"area(::HasArea, $T) method must be implemented\")\n",
    "area(::HasArea, r::Rectangle) = r.w*r.h\n",
    "\n",
    "### Code for delegation ###\n",
    "\n",
    "for op in [:bbox, :area]\n",
    "    @eval $op(s::Square) = ($op)(s.r)\n",
    "end\n",
    "\n",
    "end"
   ]
  },
  {
   "cell_type": "code",
   "execution_count": 35,
   "metadata": {},
   "outputs": [
    {
     "data": {
      "text/plain": [
       "Main.geom4.Square(Main.geom4.Rectangle(0, 0, 10, 10))"
      ]
     },
     "execution_count": 35,
     "metadata": {},
     "output_type": "execute_result"
    }
   ],
   "source": [
    "s = geom4.Square(0, 0, 10)"
   ]
  },
  {
   "cell_type": "code",
   "execution_count": 36,
   "metadata": {},
   "outputs": [
    {
     "data": {
      "text/plain": [
       "100"
      ]
     },
     "execution_count": 36,
     "metadata": {},
     "output_type": "execute_result"
    }
   ],
   "source": [
    "geom4.area(s)"
   ]
  },
  {
   "cell_type": "code",
   "execution_count": 37,
   "metadata": {},
   "outputs": [
    {
     "data": {
      "text/plain": [
       "Main.geom4.Rectangle(0, 0, 10, 10)"
      ]
     },
     "execution_count": 37,
     "metadata": {},
     "output_type": "execute_result"
    }
   ],
   "source": [
    "geom4.bbox(s)"
   ]
  },
  {
   "cell_type": "markdown",
   "metadata": {},
   "source": [
    "### Accessors\n",
    "\n",
    "Julia composite types do not have any data hiding available natively. While in most cases data accessors are not needed. One may use them where there is a need to validate the values before updating the `mutable struct`. The width attribute in a `Rectangle` should not be negative. A variable naming beginning with an underscore (`_`) is kind of a directive that the variable is private. "
   ]
  },
  {
   "cell_type": "code",
   "execution_count": 38,
   "metadata": {},
   "outputs": [
    {
     "name": "stderr",
     "output_type": "stream",
     "text": [
      "WARNING: replacing module geom.\n"
     ]
    },
    {
     "data": {
      "text/plain": [
       "Main.geom"
      ]
     },
     "execution_count": 38,
     "metadata": {},
     "output_type": "execute_result"
    }
   ],
   "source": [
    "module geom\n",
    "mutable struct Rectangle\n",
    "    _x; _y; _w; _h\n",
    "    function Rectangle(x, y, w, h)\n",
    "        (w <= 0 || h <= 0) && error(\"width and height must be positive\")\n",
    "        new(x, y, w, h)\n",
    "    end\n",
    "end\n",
    "w(r::Rectangle) = r._w\n",
    "function w!(r::Rectangle, tw) \n",
    "    tw <= 0 && error(\"width cannot be negative\")\n",
    "    r._w = tw \n",
    "end\n",
    "end\n"
   ]
  },
  {
   "cell_type": "code",
   "execution_count": 39,
   "metadata": {},
   "outputs": [
    {
     "data": {
      "text/plain": [
       "40"
      ]
     },
     "execution_count": 39,
     "metadata": {},
     "output_type": "execute_result"
    }
   ],
   "source": [
    "r = geom.Rectangle(0, 0, 10, 20)\n",
    "geom.w!(r, 40)"
   ]
  },
  {
   "cell_type": "code",
   "execution_count": 40,
   "metadata": {},
   "outputs": [
    {
     "data": {
      "text/plain": [
       "40"
      ]
     },
     "execution_count": 40,
     "metadata": {},
     "output_type": "execute_result"
    }
   ],
   "source": [
    "geom.w(r)"
   ]
  },
  {
   "cell_type": "markdown",
   "metadata": {},
   "source": [
    "## 10.5 Conclusion"
   ]
  },
  {
   "cell_type": "markdown",
   "metadata": {},
   "source": [
    "## Exercises"
   ]
  }
 ],
 "metadata": {
  "@webio": {
   "lastCommId": null,
   "lastKernelId": null
  },
  "kernelspec": {
   "display_name": "Julia 1.6.7",
   "language": "julia",
   "name": "julia-1.6"
  },
  "language_info": {
   "file_extension": ".jl",
   "mimetype": "application/julia",
   "name": "julia",
   "version": "1.6.7"
  }
 },
 "nbformat": 4,
 "nbformat_minor": 4
}
