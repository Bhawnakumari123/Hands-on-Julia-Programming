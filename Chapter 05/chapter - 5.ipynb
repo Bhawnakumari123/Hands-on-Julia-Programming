{
 "cells": [
  {
   "cell_type": "markdown",
   "id": "999375d5",
   "metadata": {},
   "source": [
    "# Chapter - 5\n",
    "COLLECTIONS"
   ]
  },
  {
   "cell_type": "markdown",
   "id": "24ec2857",
   "metadata": {},
   "source": [
    "# Tuple"
   ]
  },
  {
   "cell_type": "code",
   "execution_count": 1,
   "id": "e1d0d874",
   "metadata": {},
   "outputs": [
    {
     "data": {
      "text/plain": [
       "(1, \"string\", 1.0)"
      ]
     },
     "execution_count": 1,
     "metadata": {},
     "output_type": "execute_result"
    }
   ],
   "source": [
    "a = (1, \"string\", 1.0)"
   ]
  },
  {
   "cell_type": "code",
   "execution_count": 2,
   "id": "370df967",
   "metadata": {},
   "outputs": [
    {
     "data": {
      "text/plain": [
       "Tuple{Int64, String, Float64}"
      ]
     },
     "execution_count": 2,
     "metadata": {},
     "output_type": "execute_result"
    }
   ],
   "source": [
    "typeof(a) \n"
   ]
  },
  {
   "cell_type": "code",
   "execution_count": 3,
   "id": "0d228149",
   "metadata": {},
   "outputs": [
    {
     "data": {
      "text/plain": [
       "1"
      ]
     },
     "execution_count": 3,
     "metadata": {},
     "output_type": "execute_result"
    }
   ],
   "source": [
    "a[1]"
   ]
  },
  {
   "cell_type": "code",
   "execution_count": 4,
   "id": "304ab5c6",
   "metadata": {},
   "outputs": [
    {
     "ename": "LoadError",
     "evalue": "MethodError: no method matching setindex!(::Tuple{Int64, String, Float64}, ::Int64, ::Int64)",
     "output_type": "error",
     "traceback": [
      "MethodError: no method matching setindex!(::Tuple{Int64, String, Float64}, ::Int64, ::Int64)",
      "",
      "Stacktrace:",
      " [1] top-level scope",
      "   @ In[4]:1",
      " [2] eval",
      "   @ .\\boot.jl:360 [inlined]",
      " [3] include_string(mapexpr::typeof(REPL.softscope), mod::Module, code::String, filename::String)",
      "   @ Base .\\loading.jl:1116"
     ]
    }
   ],
   "source": [
    "a[1] = 6    "
   ]
  },
  {
   "cell_type": "code",
   "execution_count": 5,
   "id": "8db72653",
   "metadata": {},
   "outputs": [
    {
     "data": {
      "text/plain": [
       "(1, \"string\", 1.0)"
      ]
     },
     "execution_count": 5,
     "metadata": {},
     "output_type": "execute_result"
    }
   ],
   "source": [
    "b, c = a                          \n",
    "(1, \"string\", 1.0)"
   ]
  },
  {
   "cell_type": "code",
   "execution_count": 6,
   "id": "0d1424b6",
   "metadata": {},
   "outputs": [
    {
     "data": {
      "text/plain": [
       "1"
      ]
     },
     "execution_count": 6,
     "metadata": {},
     "output_type": "execute_result"
    }
   ],
   "source": [
    "b"
   ]
  },
  {
   "cell_type": "code",
   "execution_count": 7,
   "id": "9e1c8af3",
   "metadata": {},
   "outputs": [
    {
     "data": {
      "text/plain": [
       "\"string\""
      ]
     },
     "execution_count": 7,
     "metadata": {},
     "output_type": "execute_result"
    }
   ],
   "source": [
    "c"
   ]
  },
  {
   "cell_type": "markdown",
   "id": "aa133329",
   "metadata": {},
   "source": [
    "# N Tuple"
   ]
  },
  {
   "cell_type": "code",
   "execution_count": 8,
   "id": "19158af2",
   "metadata": {},
   "outputs": [
    {
     "data": {
      "text/plain": [
       "Tuple{Int64, Int64, Int64}"
      ]
     },
     "execution_count": 8,
     "metadata": {},
     "output_type": "execute_result"
    }
   ],
   "source": [
    "NTuple{3, Int}"
   ]
  },
  {
   "cell_type": "code",
   "execution_count": 9,
   "id": "309dca72",
   "metadata": {},
   "outputs": [
    {
     "data": {
      "text/plain": [
       "(4, 4, 4, 4, 4, 4, 4, 4, 4, 4)"
      ]
     },
     "execution_count": 9,
     "metadata": {},
     "output_type": "execute_result"
    }
   ],
   "source": [
    "a = ntuple(x->4, 10)"
   ]
  },
  {
   "cell_type": "code",
   "execution_count": 10,
   "id": "28478535",
   "metadata": {},
   "outputs": [
    {
     "data": {
      "text/plain": [
       "NTuple{10, Int64}"
      ]
     },
     "execution_count": 10,
     "metadata": {},
     "output_type": "execute_result"
    }
   ],
   "source": [
    "typeof(a)"
   ]
  },
  {
   "cell_type": "code",
   "execution_count": 11,
   "id": "21bb3c73",
   "metadata": {},
   "outputs": [
    {
     "data": {
      "text/plain": [
       "(1.0, 2.0, 3.0, 4.0, 5.0, 6.0, 7.0, 8.0, 9.0, 10.0)"
      ]
     },
     "execution_count": 11,
     "metadata": {},
     "output_type": "execute_result"
    }
   ],
   "source": [
    "a = ntuple(i->i*1.0, 10)"
   ]
  },
  {
   "cell_type": "code",
   "execution_count": 12,
   "id": "fde9fc51",
   "metadata": {},
   "outputs": [
    {
     "data": {
      "text/plain": [
       "NTuple{10, Float64}"
      ]
     },
     "execution_count": 12,
     "metadata": {},
     "output_type": "execute_result"
    }
   ],
   "source": [
    "typeof(a)"
   ]
  },
  {
   "cell_type": "markdown",
   "id": "25c1a76b",
   "metadata": {},
   "source": [
    "# Tuple as a Collection"
   ]
  },
  {
   "cell_type": "code",
   "execution_count": 13,
   "id": "5ed76a0c",
   "metadata": {},
   "outputs": [
    {
     "data": {
      "text/plain": [
       "10"
      ]
     },
     "execution_count": 13,
     "metadata": {},
     "output_type": "execute_result"
    }
   ],
   "source": [
    "length(a)"
   ]
  },
  {
   "cell_type": "code",
   "execution_count": 14,
   "id": "fcc84ef9",
   "metadata": {},
   "outputs": [
    {
     "name": "stdout",
     "output_type": "stream",
     "text": [
      "1.0\n",
      "2.0\n",
      "3.0\n",
      "4.0\n",
      "5.0\n",
      "6.0\n",
      "7.0\n",
      "8.0\n",
      "9.0\n",
      "10.0\n"
     ]
    }
   ],
   "source": [
    "for i=1:length(a)\n",
    "    println(a[i])\n",
    "end"
   ]
  },
  {
   "cell_type": "markdown",
   "id": "325d88ff",
   "metadata": {},
   "source": [
    "# Integers as Type Parameters"
   ]
  },
  {
   "cell_type": "code",
   "execution_count": 15,
   "id": "08d05a47",
   "metadata": {},
   "outputs": [
    {
     "data": {
      "text/plain": [
       "dist (generic function with 2 methods)"
      ]
     },
     "execution_count": 15,
     "metadata": {},
     "output_type": "execute_result"
    }
   ],
   "source": [
    "struct Point{N}\n",
    "    data::NTuple{N, Float32}\n",
    "    Point(d...)=new{length(d)}(d)\n",
    "end\n",
    "const Point2D=Point{2}\n",
    "const Point3D=Point{3}\n",
    "\n",
    "function dist(p1::Point2D, p2::Point2D)\n",
    "    dx, dy = (p1.data[1] - p2.data[1], p1.data[2] - p2.data[2])\n",
    "    return sqrt(dx*dx+dy*dy)\n",
    "end\n",
    "function dist(p1::Point3D, p2::Point3D)\n",
    "    dx, dy, dz = (p1.data[1] - p2.data[1], \n",
    "                  p1.data[2] - p2.data[2], \n",
    "                  p1.data[3] - p2.data[3])\n",
    "    return sqrt(dx*dx+dy*dy+dz*dz)\n",
    "end"
   ]
  },
  {
   "cell_type": "code",
   "execution_count": 16,
   "id": "ce702a6d",
   "metadata": {},
   "outputs": [
    {
     "data": {
      "text/plain": [
       "2.828427f0"
      ]
     },
     "execution_count": 16,
     "metadata": {},
     "output_type": "execute_result"
    }
   ],
   "source": [
    "dist(Point(1, 2), Point(3, 4))"
   ]
  },
  {
   "cell_type": "code",
   "execution_count": 17,
   "id": "c5b32403",
   "metadata": {},
   "outputs": [
    {
     "data": {
      "text/plain": [
       "3.4641016f0"
      ]
     },
     "execution_count": 17,
     "metadata": {},
     "output_type": "execute_result"
    }
   ],
   "source": [
    "dist(Point(1, 2, 3), Point(3, 4, 5))"
   ]
  },
  {
   "cell_type": "code",
   "execution_count": 18,
   "id": "8fe9aefc",
   "metadata": {},
   "outputs": [
    {
     "data": {
      "text/plain": [
       "dist (generic function with 3 methods)"
      ]
     },
     "execution_count": 18,
     "metadata": {},
     "output_type": "execute_result"
    }
   ],
   "source": [
    "function dist(p1::Point{N}, p2::Point{N}) where N\n",
    "    sumval = 0f0\n",
    "    for i=1:N\n",
    "        d = p1.data[i] - p2.data[i]\n",
    "        sumval += d*d\n",
    "    end\n",
    "    return sqrt(sumval)\n",
    "end"
   ]
  },
  {
   "cell_type": "code",
   "execution_count": 19,
   "id": "99348d80",
   "metadata": {},
   "outputs": [
    {
     "data": {
      "text/plain": [
       "2.828427f0"
      ]
     },
     "execution_count": 19,
     "metadata": {},
     "output_type": "execute_result"
    }
   ],
   "source": [
    "dist(Point(1, 2), Point(3, 4))"
   ]
  },
  {
   "cell_type": "code",
   "execution_count": 20,
   "id": "8ae196be",
   "metadata": {},
   "outputs": [
    {
     "data": {
      "text/plain": [
       "3.4641016f0"
      ]
     },
     "execution_count": 20,
     "metadata": {},
     "output_type": "execute_result"
    }
   ],
   "source": [
    "dist(Point(1, 2, 3), Point(3, 4, 5))"
   ]
  },
  {
   "cell_type": "code",
   "execution_count": 21,
   "id": "86b9faf6",
   "metadata": {},
   "outputs": [
    {
     "data": {
      "text/plain": [
       "dist (generic function with 4 methods)"
      ]
     },
     "execution_count": 21,
     "metadata": {},
     "output_type": "execute_result"
    }
   ],
   "source": [
    "function dist(p1::Point, p2::Point)\n",
    "    N = length(p1.data)\n",
    "    sumval = 0f0\n",
    "    for i=1:N\n",
    "        d = p1.data[i] - p2.data[i]\n",
    "        sumval += d*d\n",
    "    end\n",
    "    return sqrt(sumval)\n",
    "end"
   ]
  },
  {
   "cell_type": "code",
   "execution_count": 22,
   "id": "32bcea5e",
   "metadata": {},
   "outputs": [
    {
     "data": {
      "text/plain": [
       "2.828427f0"
      ]
     },
     "execution_count": 22,
     "metadata": {},
     "output_type": "execute_result"
    }
   ],
   "source": [
    "dist(Point(1, 2), Point(3, 4))"
   ]
  },
  {
   "cell_type": "code",
   "execution_count": 23,
   "id": "0de5152c",
   "metadata": {},
   "outputs": [
    {
     "ename": "LoadError",
     "evalue": "BoundsError: attempt to access Tuple{Float32, Float32} at index [3]",
     "output_type": "error",
     "traceback": [
      "BoundsError: attempt to access Tuple{Float32, Float32} at index [3]",
      "",
      "Stacktrace:",
      " [1] getindex",
      "   @ .\\tuple.jl:29 [inlined]",
      " [2] dist(p1::Point3D, p2::Point2D)",
      "   @ Main .\\In[21]:5",
      " [3] top-level scope",
      "   @ In[23]:1",
      " [4] eval",
      "   @ .\\boot.jl:360 [inlined]",
      " [5] include_string(mapexpr::typeof(REPL.softscope), mod::Module, code::String, filename::String)",
      "   @ Base .\\loading.jl:1116"
     ]
    }
   ],
   "source": [
    "dist(Point(1f0, 2f0, 3f0), Point(1, 2))"
   ]
  },
  {
   "cell_type": "code",
   "execution_count": 24,
   "id": "bc798e96",
   "metadata": {},
   "outputs": [
    {
     "data": {
      "text/plain": [
       "dist (generic function with 4 methods)"
      ]
     },
     "execution_count": 24,
     "metadata": {},
     "output_type": "execute_result"
    }
   ],
   "source": [
    "function dist(p1::Point{N}, p2::Point{N}) where N\n",
    "    sumval = 0f0\n",
    "    for i=1:N\n",
    "        d = p1.data[i] - p2.data[i]\n",
    "        sumval += d*d\n",
    "    end\n",
    "    return sqrt(sumval)\n",
    "end\n",
    "\n",
    "function dist(p1::Point{N1}, p2::Point{N2}) where {N1, N2}\n",
    "    N1 > N2 && return dist(p2, p1)\n",
    "    tp = Point(p1.data..., ntuple(i->0f0, N2-N1)...)\n",
    "    return dist(tp, p2)\n",
    "end"
   ]
  },
  {
   "cell_type": "code",
   "execution_count": 25,
   "id": "1bd2bafe",
   "metadata": {},
   "outputs": [
    {
     "data": {
      "text/plain": [
       "3.0f0"
      ]
     },
     "execution_count": 25,
     "metadata": {},
     "output_type": "execute_result"
    }
   ],
   "source": [
    "dist(Point(1f0, 2f0, 3f0), Point(1, 2))"
   ]
  },
  {
   "cell_type": "markdown",
   "id": "48f3f555",
   "metadata": {},
   "source": [
    "# Value Parameters"
   ]
  },
  {
   "cell_type": "code",
   "execution_count": 26,
   "id": "c725af6c",
   "metadata": {},
   "outputs": [
    {
     "data": {
      "text/plain": [
       "f (generic function with 2 methods)"
      ]
     },
     "execution_count": 26,
     "metadata": {},
     "output_type": "execute_result"
    }
   ],
   "source": [
    "struct MyVal{N}\n",
    "    MyVal(N)=new{N}()\n",
    "end\n",
    "f(::MyVal{N}) where N = N\n",
    "function f(::MyVal{1})\n",
    "    println(\"Called from 1\")\n",
    "end"
   ]
  },
  {
   "cell_type": "code",
   "execution_count": 27,
   "id": "3c86f742",
   "metadata": {},
   "outputs": [
    {
     "data": {
      "text/plain": [
       "2"
      ]
     },
     "execution_count": 27,
     "metadata": {},
     "output_type": "execute_result"
    }
   ],
   "source": [
    "f(MyVal(2))"
   ]
  },
  {
   "cell_type": "code",
   "execution_count": 28,
   "id": "0f24a258",
   "metadata": {},
   "outputs": [
    {
     "name": "stdout",
     "output_type": "stream",
     "text": [
      "Called from 1\n"
     ]
    }
   ],
   "source": [
    "f(MyVal(1))"
   ]
  },
  {
   "cell_type": "markdown",
   "id": "68fa50fc",
   "metadata": {},
   "source": [
    "# Singleton"
   ]
  },
  {
   "cell_type": "code",
   "execution_count": 29,
   "id": "56a8efc8",
   "metadata": {},
   "outputs": [
    {
     "data": {
      "text/plain": [
       "true"
      ]
     },
     "execution_count": 29,
     "metadata": {},
     "output_type": "execute_result"
    }
   ],
   "source": [
    "MyVal(1) === MyVal(1)"
   ]
  },
  {
   "cell_type": "code",
   "execution_count": 30,
   "id": "bdfe3ab8",
   "metadata": {},
   "outputs": [
    {
     "data": {
      "text/plain": [
       "false"
      ]
     },
     "execution_count": 30,
     "metadata": {},
     "output_type": "execute_result"
    }
   ],
   "source": [
    "MyVal(1) === MyVal(2)"
   ]
  },
  {
   "cell_type": "code",
   "execution_count": 31,
   "id": "df4e3b4c",
   "metadata": {},
   "outputs": [
    {
     "data": {
      "text/plain": [
       "MyVal{:a}()"
      ]
     },
     "execution_count": 31,
     "metadata": {},
     "output_type": "execute_result"
    }
   ],
   "source": [
    "MyVal(:a)"
   ]
  },
  {
   "cell_type": "markdown",
   "id": "8c7bb817",
   "metadata": {},
   "source": [
    "# Ranges\n",
    "Unit Range"
   ]
  },
  {
   "cell_type": "code",
   "execution_count": 32,
   "id": "b2d75d21",
   "metadata": {},
   "outputs": [
    {
     "data": {
      "text/plain": [
       "UnitRange{Int64}"
      ]
     },
     "execution_count": 32,
     "metadata": {},
     "output_type": "execute_result"
    }
   ],
   "source": [
    "a=1:5\n",
    "typeof(a)"
   ]
  },
  {
   "cell_type": "code",
   "execution_count": 33,
   "id": "17239fa7",
   "metadata": {},
   "outputs": [
    {
     "name": "stdout",
     "output_type": "stream",
     "text": [
      "1\n",
      "2\n",
      "3\n",
      "4\n",
      "5\n"
     ]
    }
   ],
   "source": [
    "for i=a\n",
    "    println(i)\n",
    "end"
   ]
  },
  {
   "cell_type": "markdown",
   "id": "5ffb7153",
   "metadata": {},
   "source": [
    "StepRange"
   ]
  },
  {
   "cell_type": "code",
   "execution_count": 34,
   "id": "f2531583",
   "metadata": {},
   "outputs": [
    {
     "data": {
      "text/plain": [
       "StepRange{Int64, Int64}"
      ]
     },
     "execution_count": 34,
     "metadata": {},
     "output_type": "execute_result"
    }
   ],
   "source": [
    "b=1:2:5\n",
    "typeof(b)"
   ]
  },
  {
   "cell_type": "code",
   "execution_count": 35,
   "id": "c0dd27f6",
   "metadata": {},
   "outputs": [
    {
     "name": "stdout",
     "output_type": "stream",
     "text": [
      "1\n",
      "3\n",
      "5\n"
     ]
    }
   ],
   "source": [
    "for i=b\n",
    "    println(i)\n",
    "end"
   ]
  },
  {
   "cell_type": "markdown",
   "id": "70ced71c",
   "metadata": {},
   "source": [
    "Decreasing Ranges"
   ]
  },
  {
   "cell_type": "code",
   "execution_count": 36,
   "id": "dbe06d62",
   "metadata": {},
   "outputs": [
    {
     "data": {
      "text/plain": [
       "StepRange{Int64, Int64}"
      ]
     },
     "execution_count": 36,
     "metadata": {},
     "output_type": "execute_result"
    }
   ],
   "source": [
    "c=5:-1:1\n",
    "typeof(c)"
   ]
  },
  {
   "cell_type": "code",
   "execution_count": 37,
   "id": "95651674",
   "metadata": {},
   "outputs": [
    {
     "name": "stdout",
     "output_type": "stream",
     "text": [
      "5\n",
      "4\n",
      "3\n",
      "2\n",
      "1\n"
     ]
    }
   ],
   "source": [
    "for i=c\n",
    "    println(i)\n",
    "end"
   ]
  },
  {
   "cell_type": "code",
   "execution_count": 38,
   "id": "ca85b75e",
   "metadata": {},
   "outputs": [
    {
     "data": {
      "text/plain": [
       "1.0:2.1:5.2"
      ]
     },
     "execution_count": 38,
     "metadata": {},
     "output_type": "execute_result"
    }
   ],
   "source": [
    "d = 1:2.1:6.0"
   ]
  },
  {
   "cell_type": "code",
   "execution_count": 39,
   "id": "1912c469",
   "metadata": {},
   "outputs": [
    {
     "data": {
      "text/plain": [
       "StepRangeLen{Float64, Base.TwicePrecision{Float64}, Base.TwicePrecision{Float64}}"
      ]
     },
     "execution_count": 39,
     "metadata": {},
     "output_type": "execute_result"
    }
   ],
   "source": [
    "typeof(d)"
   ]
  },
  {
   "cell_type": "markdown",
   "id": "4269e739",
   "metadata": {},
   "source": [
    "# Array"
   ]
  },
  {
   "cell_type": "code",
   "execution_count": 40,
   "id": "c2b1c089",
   "metadata": {},
   "outputs": [
    {
     "data": {
      "text/plain": [
       "3-element Vector{Int64}:\n",
       " 1\n",
       " 2\n",
       " 3"
      ]
     },
     "execution_count": 40,
     "metadata": {},
     "output_type": "execute_result"
    }
   ],
   "source": [
    "v = [1, 2, 3]"
   ]
  },
  {
   "cell_type": "code",
   "execution_count": 41,
   "id": "da0b4b60",
   "metadata": {},
   "outputs": [
    {
     "data": {
      "text/plain": [
       "1×3 Matrix{Int64}:\n",
       " 1  2  3"
      ]
     },
     "execution_count": 41,
     "metadata": {},
     "output_type": "execute_result"
    }
   ],
   "source": [
    "m = [1 2 3]"
   ]
  },
  {
   "cell_type": "code",
   "execution_count": 42,
   "id": "b39bf1ef",
   "metadata": {},
   "outputs": [
    {
     "data": {
      "text/plain": [
       "2×3 Matrix{Int64}:\n",
       " 1  2  3\n",
       " 4  5  6"
      ]
     },
     "execution_count": 42,
     "metadata": {},
     "output_type": "execute_result"
    }
   ],
   "source": [
    "m1 = [1 2 3; 4 5 6]"
   ]
  },
  {
   "cell_type": "code",
   "execution_count": 43,
   "id": "fa283328",
   "metadata": {},
   "outputs": [
    {
     "data": {
      "text/plain": [
       "3×2 Matrix{Int64}:\n",
       " 1  2\n",
       " 3  4\n",
       " 5  6"
      ]
     },
     "execution_count": 43,
     "metadata": {},
     "output_type": "execute_result"
    }
   ],
   "source": [
    "m2 = [1 2; 3 4; 5 6]"
   ]
  },
  {
   "cell_type": "markdown",
   "id": "7153f1ab",
   "metadata": {},
   "source": [
    "Memory Layout and Indexing"
   ]
  },
  {
   "cell_type": "code",
   "execution_count": 44,
   "id": "0e19bc06",
   "metadata": {},
   "outputs": [
    {
     "data": {
      "text/plain": [
       "2"
      ]
     },
     "execution_count": 44,
     "metadata": {},
     "output_type": "execute_result"
    }
   ],
   "source": [
    "m1[1, 2]"
   ]
  },
  {
   "cell_type": "code",
   "execution_count": 45,
   "id": "4432950a",
   "metadata": {},
   "outputs": [
    {
     "data": {
      "text/plain": [
       "5"
      ]
     },
     "execution_count": 45,
     "metadata": {},
     "output_type": "execute_result"
    }
   ],
   "source": [
    "m1[2, 2]"
   ]
  },
  {
   "cell_type": "code",
   "execution_count": 46,
   "id": "9c6cd133",
   "metadata": {},
   "outputs": [
    {
     "data": {
      "text/plain": [
       "2"
      ]
     },
     "execution_count": 46,
     "metadata": {},
     "output_type": "execute_result"
    }
   ],
   "source": [
    "m2[1, 2]"
   ]
  },
  {
   "cell_type": "code",
   "execution_count": 47,
   "id": "0eda21c4",
   "metadata": {},
   "outputs": [
    {
     "data": {
      "text/plain": [
       "4"
      ]
     },
     "execution_count": 47,
     "metadata": {},
     "output_type": "execute_result"
    }
   ],
   "source": [
    "m2[2, 2]"
   ]
  },
  {
   "cell_type": "markdown",
   "id": "d9c9d944",
   "metadata": {},
   "source": [
    "# Constructors"
   ]
  },
  {
   "cell_type": "code",
   "execution_count": 48,
   "id": "2dd2021a",
   "metadata": {},
   "outputs": [
    {
     "data": {
      "text/plain": [
       "1×2 Matrix{Int64}:\n",
       " 267014240  305915984"
      ]
     },
     "execution_count": 48,
     "metadata": {},
     "output_type": "execute_result"
    }
   ],
   "source": [
    "Array{Int}(undef, 1, 2)"
   ]
  },
  {
   "cell_type": "code",
   "execution_count": 49,
   "id": "a06a32ce",
   "metadata": {},
   "outputs": [
    {
     "data": {
      "text/plain": [
       "2-element Vector{Int64}:\n",
       " 256446720\n",
       " 275744848"
      ]
     },
     "execution_count": 49,
     "metadata": {},
     "output_type": "execute_result"
    }
   ],
   "source": [
    "Array{Int}(undef, 2)"
   ]
  },
  {
   "cell_type": "code",
   "execution_count": 50,
   "id": "7fe75b81",
   "metadata": {},
   "outputs": [
    {
     "data": {
      "text/plain": [
       "2×3 Matrix{Int64}:\n",
       " 306919648  306919680  242221232\n",
       " 306919664  242221744         -1"
      ]
     },
     "execution_count": 50,
     "metadata": {},
     "output_type": "execute_result"
    }
   ],
   "source": [
    "Array{Int, 2}(undef, (2, 3))"
   ]
  },
  {
   "cell_type": "code",
   "execution_count": 51,
   "id": "2b72a99e",
   "metadata": {},
   "outputs": [
    {
     "data": {
      "text/plain": [
       "2×3 Matrix{Float32}:\n",
       " 7.75075f26  3.07051f-28  2.57729f26\n",
       " 0.0         0.0          0.0"
      ]
     },
     "execution_count": 51,
     "metadata": {},
     "output_type": "execute_result"
    }
   ],
   "source": [
    "Array{Float32}(undef, (2, 3))"
   ]
  },
  {
   "cell_type": "code",
   "execution_count": 52,
   "id": "01daf98e",
   "metadata": {},
   "outputs": [
    {
     "data": {
      "text/plain": [
       "true"
      ]
     },
     "execution_count": 52,
     "metadata": {},
     "output_type": "execute_result"
    }
   ],
   "source": [
    "struct A\n",
    "    i::Int\n",
    "    f::Float64\n",
    "end\n",
    "a = A(1, 1); isbits(a)"
   ]
  },
  {
   "cell_type": "code",
   "execution_count": 53,
   "id": "1f31034b",
   "metadata": {},
   "outputs": [
    {
     "data": {
      "text/plain": [
       "2×2 Matrix{A}:\n",
       " A(261062208, 1.23421e-315)  A(261195104, 1.29048e-315)\n",
       " A(261194944, 1.29047e-315)  A(251451120, 1.29048e-315)"
      ]
     },
     "execution_count": 53,
     "metadata": {},
     "output_type": "execute_result"
    }
   ],
   "source": [
    "aarr = Array{A}(undef, (2, 2))"
   ]
  },
  {
   "cell_type": "code",
   "execution_count": 54,
   "id": "a1a6d5e9",
   "metadata": {},
   "outputs": [
    {
     "data": {
      "text/plain": [
       "false"
      ]
     },
     "execution_count": 54,
     "metadata": {},
     "output_type": "execute_result"
    }
   ],
   "source": [
    "struct T\n",
    "    a::A\n",
    "    b\n",
    "end\n",
    "b = T(A(1, 1), 1); isbits(b)"
   ]
  },
  {
   "cell_type": "code",
   "execution_count": 55,
   "id": "18a7b26d",
   "metadata": {},
   "outputs": [
    {
     "data": {
      "text/plain": [
       "2×2 Matrix{T}:\n",
       " #undef  #undef\n",
       " #undef  #undef"
      ]
     },
     "execution_count": 55,
     "metadata": {},
     "output_type": "execute_result"
    }
   ],
   "source": [
    "barr = Array{T}(undef, (2, 2))"
   ]
  },
  {
   "cell_type": "code",
   "execution_count": 56,
   "id": "ffc98c55",
   "metadata": {},
   "outputs": [
    {
     "data": {
      "text/plain": [
       "T(A(1, 1.0), 1)"
      ]
     },
     "execution_count": 56,
     "metadata": {},
     "output_type": "execute_result"
    }
   ],
   "source": [
    "barr[1,1] = barr[2,1] = barr[1,2] = barr[2,2] = b"
   ]
  },
  {
   "cell_type": "code",
   "execution_count": 57,
   "id": "e3bd4dfe",
   "metadata": {},
   "outputs": [
    {
     "data": {
      "text/plain": [
       "2×2 Matrix{T}:\n",
       " T(A(1, 1.0), 1)  T(A(1, 1.0), 1)\n",
       " T(A(1, 1.0), 1)  T(A(1, 1.0), 1)"
      ]
     },
     "execution_count": 57,
     "metadata": {},
     "output_type": "execute_result"
    }
   ],
   "source": [
    "barr"
   ]
  },
  {
   "cell_type": "code",
   "execution_count": 58,
   "id": "0f10883e",
   "metadata": {},
   "outputs": [
    {
     "data": {
      "text/plain": [
       "3-element Vector{Int64}:\n",
       "         1\n",
       " 296322000\n",
       "         1"
      ]
     },
     "execution_count": 58,
     "metadata": {},
     "output_type": "execute_result"
    }
   ],
   "source": [
    "Vector{Int}(undef, 3)"
   ]
  },
  {
   "cell_type": "code",
   "execution_count": 59,
   "id": "6cbe93dc",
   "metadata": {},
   "outputs": [
    {
     "data": {
      "text/plain": [
       "3×3 Matrix{Int64}:\n",
       "        17         20         34\n",
       "         4          5         10\n",
       " 275602945  275603201  275603201"
      ]
     },
     "execution_count": 59,
     "metadata": {},
     "output_type": "execute_result"
    }
   ],
   "source": [
    "Matrix{Int}(undef, 3, 3)"
   ]
  },
  {
   "cell_type": "code",
   "execution_count": 60,
   "id": "2198755e",
   "metadata": {},
   "outputs": [
    {
     "data": {
      "text/plain": [
       "2×3 Matrix{Float32}:\n",
       " 0.0  0.0  0.0\n",
       " 0.0  0.0  0.0"
      ]
     },
     "execution_count": 60,
     "metadata": {},
     "output_type": "execute_result"
    }
   ],
   "source": [
    "zeros(Float32, (2, 3))"
   ]
  },
  {
   "cell_type": "code",
   "execution_count": 61,
   "id": "ed82362a",
   "metadata": {},
   "outputs": [
    {
     "data": {
      "text/plain": [
       "2×3 Matrix{Float32}:\n",
       " 1.0  1.0  1.0\n",
       " 1.0  1.0  1.0"
      ]
     },
     "execution_count": 61,
     "metadata": {},
     "output_type": "execute_result"
    }
   ],
   "source": [
    "ones(Float32, (2, 3))"
   ]
  },
  {
   "cell_type": "code",
   "execution_count": 62,
   "id": "64e1825d",
   "metadata": {},
   "outputs": [
    {
     "data": {
      "text/plain": [
       "2×3 Matrix{UInt8}:\n",
       " 0x01  0x01  0x01\n",
       " 0x01  0x01  0x01"
      ]
     },
     "execution_count": 62,
     "metadata": {},
     "output_type": "execute_result"
    }
   ],
   "source": [
    "ones(UInt8, (2, 3))"
   ]
  },
  {
   "cell_type": "code",
   "execution_count": 63,
   "id": "6becd6ee",
   "metadata": {},
   "outputs": [
    {
     "data": {
      "text/plain": [
       "8×8 Matrix{Bool}:\n",
       " 0  0  0  0  0  0  0  0\n",
       " 0  0  0  0  0  0  0  0\n",
       " 0  0  0  0  0  0  0  0\n",
       " 0  0  0  0  0  0  0  0\n",
       " 0  0  0  0  0  0  0  0\n",
       " 0  0  0  0  0  0  0  0\n",
       " 0  0  0  0  0  0  0  0\n",
       " 0  0  0  0  0  0  0  0"
      ]
     },
     "execution_count": 63,
     "metadata": {},
     "output_type": "execute_result"
    }
   ],
   "source": [
    "zb = zeros(Bool, (8, 8))"
   ]
  },
  {
   "cell_type": "code",
   "execution_count": 64,
   "id": "9e29d752",
   "metadata": {},
   "outputs": [
    {
     "data": {
      "text/plain": [
       "64"
      ]
     },
     "execution_count": 64,
     "metadata": {},
     "output_type": "execute_result"
    }
   ],
   "source": [
    "sizeof(zb)"
   ]
  },
  {
   "cell_type": "code",
   "execution_count": 65,
   "id": "decb78ce",
   "metadata": {},
   "outputs": [
    {
     "data": {
      "text/plain": [
       "8×8 BitMatrix:\n",
       " 0  0  0  0  0  0  0  0\n",
       " 0  0  0  0  0  0  0  0\n",
       " 0  0  0  0  0  0  0  0\n",
       " 0  0  0  0  0  0  0  0\n",
       " 0  0  0  0  0  0  0  0\n",
       " 0  0  0  0  0  0  0  0\n",
       " 0  0  0  0  0  0  0  0\n",
       " 0  0  0  0  0  0  0  0"
      ]
     },
     "execution_count": 65,
     "metadata": {},
     "output_type": "execute_result"
    }
   ],
   "source": [
    "z = falses(8, 8)"
   ]
  },
  {
   "cell_type": "code",
   "execution_count": 66,
   "id": "43f5a842",
   "metadata": {},
   "outputs": [
    {
     "data": {
      "text/plain": [
       "8"
      ]
     },
     "execution_count": 66,
     "metadata": {},
     "output_type": "execute_result"
    }
   ],
   "source": [
    "sizeof(z)"
   ]
  },
  {
   "cell_type": "markdown",
   "id": "8d6d284b",
   "metadata": {},
   "source": [
    "Fill and similar"
   ]
  },
  {
   "cell_type": "code",
   "execution_count": 67,
   "id": "17a7ee28",
   "metadata": {},
   "outputs": [
    {
     "data": {
      "text/plain": [
       "2×2 Matrix{Float64}:\n",
       " 5.0  5.0\n",
       " 5.0  5.0"
      ]
     },
     "execution_count": 67,
     "metadata": {},
     "output_type": "execute_result"
    }
   ],
   "source": [
    "a = fill(5.0, (2, 2))"
   ]
  },
  {
   "cell_type": "code",
   "execution_count": 68,
   "id": "12c6e023",
   "metadata": {},
   "outputs": [
    {
     "data": {
      "text/plain": [
       "2×2 Matrix{Int64}:\n",
       " 5  5\n",
       " 5  5"
      ]
     },
     "execution_count": 68,
     "metadata": {},
     "output_type": "execute_result"
    }
   ],
   "source": [
    "a = fill(5, (2, 2))"
   ]
  },
  {
   "cell_type": "code",
   "execution_count": 69,
   "id": "155663d3",
   "metadata": {},
   "outputs": [
    {
     "data": {
      "text/plain": [
       "2×2 Matrix{Int64}:\n",
       " 1805302992  1801960096\n",
       "  265038640   273420368"
      ]
     },
     "execution_count": 69,
     "metadata": {},
     "output_type": "execute_result"
    }
   ],
   "source": [
    "b = similar(a, Int)"
   ]
  },
  {
   "cell_type": "markdown",
   "id": "4d80a8b6",
   "metadata": {},
   "source": [
    "Collect"
   ]
  },
  {
   "cell_type": "code",
   "execution_count": 70,
   "id": "a42dca2b",
   "metadata": {},
   "outputs": [
    {
     "data": {
      "text/plain": [
       "3-element Vector{Int64}:\n",
       " 1\n",
       " 2\n",
       " 3"
      ]
     },
     "execution_count": 70,
     "metadata": {},
     "output_type": "execute_result"
    }
   ],
   "source": [
    "collect(1:3)"
   ]
  },
  {
   "cell_type": "code",
   "execution_count": 71,
   "id": "c54d99ce",
   "metadata": {},
   "outputs": [
    {
     "data": {
      "text/plain": [
       "2-element Vector{Float64}:\n",
       " 1.0\n",
       " 3.0"
      ]
     },
     "execution_count": 71,
     "metadata": {},
     "output_type": "execute_result"
    }
   ],
   "source": [
    "collect(Float64, 1:2:3)"
   ]
  },
  {
   "cell_type": "markdown",
   "id": "e1bf7190",
   "metadata": {},
   "source": [
    "reshape"
   ]
  },
  {
   "cell_type": "code",
   "execution_count": 72,
   "id": "ff6ea002",
   "metadata": {},
   "outputs": [
    {
     "data": {
      "text/plain": [
       "16-element Vector{Int64}:\n",
       "  1\n",
       "  2\n",
       "  3\n",
       "  4\n",
       "  5\n",
       "  6\n",
       "  7\n",
       "  8\n",
       "  9\n",
       " 10\n",
       " 11\n",
       " 12\n",
       " 13\n",
       " 14\n",
       " 15\n",
       " 16"
      ]
     },
     "execution_count": 72,
     "metadata": {},
     "output_type": "execute_result"
    }
   ],
   "source": [
    "a = collect(1:16)"
   ]
  },
  {
   "cell_type": "code",
   "execution_count": 73,
   "id": "a332690a",
   "metadata": {},
   "outputs": [
    {
     "data": {
      "text/plain": [
       "4×4 Matrix{Int64}:\n",
       " 1  5   9  13\n",
       " 2  6  10  14\n",
       " 3  7  11  15\n",
       " 4  8  12  16"
      ]
     },
     "execution_count": 73,
     "metadata": {},
     "output_type": "execute_result"
    }
   ],
   "source": [
    "b = reshape(a, (4, 4))"
   ]
  },
  {
   "cell_type": "code",
   "execution_count": 74,
   "id": "2589e060",
   "metadata": {},
   "outputs": [
    {
     "data": {
      "text/plain": [
       "2×8 Matrix{Int64}:\n",
       " 1  3  5  7   9  11  13  15\n",
       " 2  4  6  8  10  12  14  16"
      ]
     },
     "execution_count": 74,
     "metadata": {},
     "output_type": "execute_result"
    }
   ],
   "source": [
    "c = reshape(b, (2, 8))"
   ]
  },
  {
   "cell_type": "code",
   "execution_count": 75,
   "id": "a7805c9c",
   "metadata": {},
   "outputs": [
    {
     "data": {
      "text/plain": [
       "8×2 Matrix{Int64}:\n",
       " 1   9\n",
       " 2  10\n",
       " 3  11\n",
       " 4  12\n",
       " 5  13\n",
       " 6  14\n",
       " 7  15\n",
       " 8  16"
      ]
     },
     "execution_count": 75,
     "metadata": {},
     "output_type": "execute_result"
    }
   ],
   "source": [
    "d = reshape(c, (8, 2))"
   ]
  },
  {
   "cell_type": "markdown",
   "id": "093a5dc1",
   "metadata": {},
   "source": [
    "hcat, vcat and hcat"
   ]
  },
  {
   "cell_type": "code",
   "execution_count": 76,
   "id": "2a551df5",
   "metadata": {},
   "outputs": [
    {
     "data": {
      "text/plain": [
       "6×2 Matrix{Int64}:\n",
       "  1   2\n",
       "  3   4\n",
       "  5   6\n",
       "  7   8\n",
       "  9  10\n",
       " 11  12"
      ]
     },
     "execution_count": 76,
     "metadata": {},
     "output_type": "execute_result"
    }
   ],
   "source": [
    "vcat([1 2; 3 4], [5 6; 7 8], [9 10; 11 12])"
   ]
  },
  {
   "cell_type": "code",
   "execution_count": 77,
   "id": "f416daed",
   "metadata": {},
   "outputs": [
    {
     "data": {
      "text/plain": [
       "2×6 Matrix{Int64}:\n",
       " 1  2  5  6   9  10\n",
       " 3  4  7  8  11  12"
      ]
     },
     "execution_count": 77,
     "metadata": {},
     "output_type": "execute_result"
    }
   ],
   "source": [
    "hcat([1 2; 3 4], [5 6; 7 8], [9 10; 11 12])"
   ]
  },
  {
   "cell_type": "code",
   "execution_count": 78,
   "id": "33440901",
   "metadata": {},
   "outputs": [
    {
     "data": {
      "text/plain": [
       "6×2 Matrix{Int64}:\n",
       "  1   3\n",
       "  2   4\n",
       "  5   7\n",
       "  6   8\n",
       "  9  11\n",
       " 10  12"
      ]
     },
     "execution_count": 78,
     "metadata": {},
     "output_type": "execute_result"
    }
   ],
   "source": [
    "hvcat((2, 2, 2), [1, 2], [3, 4], [5, 6], [7, 8], [9, 10], [11, 12])"
   ]
  },
  {
   "cell_type": "code",
   "execution_count": 79,
   "id": "b188c4d8",
   "metadata": {},
   "outputs": [
    {
     "data": {
      "text/plain": [
       "2×6 Matrix{Int64}:\n",
       " 1  3  5  7   9  11\n",
       " 2  4  6  8  10  12"
      ]
     },
     "execution_count": 79,
     "metadata": {},
     "output_type": "execute_result"
    }
   ],
   "source": [
    "hvcat(6, [1, 2], [3, 4], [5, 6], [7, 8], [9, 10], [11, 12])"
   ]
  },
  {
   "cell_type": "markdown",
   "id": "e9816500",
   "metadata": {},
   "source": [
    "# Associative Collection\n",
    "\n",
    "Dict"
   ]
  },
  {
   "cell_type": "code",
   "execution_count": null,
   "id": "7254e760",
   "metadata": {},
   "outputs": [],
   "source": [
    "d = Dict(\"a\"=>1, \"c\"=>2, \"b\"=>3)"
   ]
  },
  {
   "cell_type": "code",
   "execution_count": null,
   "id": "503b1be7",
   "metadata": {},
   "outputs": [],
   "source": [
    "d[\"b\"]"
   ]
  },
  {
   "cell_type": "code",
   "execution_count": null,
   "id": "4bddbbdf",
   "metadata": {},
   "outputs": [],
   "source": [
    "d[\"a\"] = 5"
   ]
  },
  {
   "cell_type": "code",
   "execution_count": null,
   "id": "d6d75c94",
   "metadata": {},
   "outputs": [],
   "source": [
    "println(d)"
   ]
  },
  {
   "cell_type": "code",
   "execution_count": null,
   "id": "096ad471",
   "metadata": {},
   "outputs": [],
   "source": [
    "d = Dict(\"a\"=>1, \"c\"=>2, \"b\"=>3, \"a\"=>4)"
   ]
  },
  {
   "cell_type": "markdown",
   "id": "4eb98005",
   "metadata": {},
   "source": [
    "get Methods"
   ]
  },
  {
   "cell_type": "code",
   "execution_count": null,
   "id": "7fdf19d3",
   "metadata": {},
   "outputs": [],
   "source": [
    "get(d, \"a\", 3)"
   ]
  },
  {
   "cell_type": "code",
   "execution_count": null,
   "id": "e38140dc",
   "metadata": {},
   "outputs": [],
   "source": [
    "get(d, \"e\", 0)"
   ]
  },
  {
   "cell_type": "code",
   "execution_count": null,
   "id": "ee13b173",
   "metadata": {},
   "outputs": [],
   "source": [
    "getindex(d, \"e\")"
   ]
  },
  {
   "cell_type": "code",
   "execution_count": null,
   "id": "0c7c8c13",
   "metadata": {},
   "outputs": [],
   "source": [
    "d[\"e\"]"
   ]
  },
  {
   "cell_type": "code",
   "execution_count": null,
   "id": "8057a351",
   "metadata": {},
   "outputs": [],
   "source": [
    "get!(d, \"a\", 0)"
   ]
  },
  {
   "cell_type": "code",
   "execution_count": null,
   "id": "bd9a87f3",
   "metadata": {},
   "outputs": [],
   "source": [
    "get!(d, \"e\", 0)"
   ]
  },
  {
   "cell_type": "code",
   "execution_count": null,
   "id": "6da39766",
   "metadata": {},
   "outputs": [],
   "source": [
    "d"
   ]
  },
  {
   "cell_type": "markdown",
   "id": "a8e0e563",
   "metadata": {},
   "source": [
    "setindex! Method"
   ]
  },
  {
   "cell_type": "code",
   "execution_count": null,
   "id": "b6c7fa34",
   "metadata": {},
   "outputs": [],
   "source": [
    "d[\"e\"] = 10"
   ]
  },
  {
   "cell_type": "code",
   "execution_count": null,
   "id": "386e50d3",
   "metadata": {},
   "outputs": [],
   "source": [
    "setindex!(d, 11, \"e\")"
   ]
  },
  {
   "cell_type": "markdown",
   "id": "b404abe7",
   "metadata": {},
   "source": [
    "# Set"
   ]
  },
  {
   "cell_type": "code",
   "execution_count": null,
   "id": "48e7014c",
   "metadata": {},
   "outputs": [],
   "source": [
    "s = Set([2 3 4 5 1 2 3])"
   ]
  },
  {
   "cell_type": "code",
   "execution_count": null,
   "id": "279cb82e",
   "metadata": {},
   "outputs": [],
   "source": [
    "6 in s"
   ]
  },
  {
   "cell_type": "code",
   "execution_count": null,
   "id": "62be10c1",
   "metadata": {},
   "outputs": [],
   "source": [
    "5 in s"
   ]
  },
  {
   "cell_type": "code",
   "execution_count": null,
   "id": "d6b057c8",
   "metadata": {},
   "outputs": [],
   "source": [
    "t = Set([4 5 7 8 9])"
   ]
  },
  {
   "cell_type": "markdown",
   "id": "1d41d97d",
   "metadata": {},
   "source": [
    "# Union and Intersection"
   ]
  },
  {
   "cell_type": "code",
   "execution_count": null,
   "id": "d8c294bf",
   "metadata": {},
   "outputs": [],
   "source": [
    "union(s, t)"
   ]
  },
  {
   "cell_type": "code",
   "execution_count": null,
   "id": "0062496b",
   "metadata": {},
   "outputs": [],
   "source": [
    "intersect(s, t)"
   ]
  },
  {
   "cell_type": "code",
   "execution_count": null,
   "id": "69276f02",
   "metadata": {},
   "outputs": [],
   "source": [
    "union!(s, t)"
   ]
  },
  {
   "cell_type": "code",
   "execution_count": null,
   "id": "1317d9ef",
   "metadata": {},
   "outputs": [],
   "source": [
    "s"
   ]
  },
  {
   "cell_type": "markdown",
   "id": "eccadbe6",
   "metadata": {},
   "source": [
    "# Iteration\n",
    "\n",
    "for loop"
   ]
  },
  {
   "cell_type": "code",
   "execution_count": null,
   "id": "fcb9e9d9",
   "metadata": {},
   "outputs": [],
   "source": [
    "for i=5:-2:1\n",
    "    println(i)\n",
    "end"
   ]
  },
  {
   "cell_type": "code",
   "execution_count": null,
   "id": "8eb0ea1b",
   "metadata": {},
   "outputs": [],
   "source": [
    "b = [1.0 2 3; 4 5 6; 7 8 9]\n",
    "for i=b\n",
    "    println(i)\n",
    "end"
   ]
  },
  {
   "cell_type": "code",
   "execution_count": null,
   "id": "b461d70f",
   "metadata": {},
   "outputs": [],
   "source": [
    "for p in d\n",
    "    println(p)\n",
    "end"
   ]
  },
  {
   "cell_type": "code",
   "execution_count": null,
   "id": "22b8edc6",
   "metadata": {},
   "outputs": [],
   "source": [
    "for (k, v) in d\n",
    "    println(\"Key:\", k,\" Value:\", v)\n",
    "end"
   ]
  },
  {
   "cell_type": "markdown",
   "id": "5674e95f",
   "metadata": {},
   "source": [
    "function...do"
   ]
  },
  {
   "cell_type": "code",
   "execution_count": null,
   "id": "f53bbb06",
   "metadata": {},
   "outputs": [],
   "source": [
    "function collect_square(v)\n",
    "    a = similar(v)\n",
    "    for i=1:length(v)\n",
    "        a[i] = v[i]*v[i]\n",
    "    end\n",
    "    return a\n",
    "end\n",
    "collect_square(1:4)"
   ]
  },
  {
   "cell_type": "code",
   "execution_count": null,
   "id": "e538aafe",
   "metadata": {},
   "outputs": [],
   "source": [
    "function collect_function(f::Function, v)\n",
    "    a = similar(v)\n",
    "    for i=1:length(v)\n",
    "        a[i] = f(v[i])\n",
    "    end\n",
    "    return a\n",
    "end\n",
    "collect_function(x->x^3, 1:4)"
   ]
  },
  {
   "cell_type": "code",
   "execution_count": null,
   "id": "467f6904",
   "metadata": {},
   "outputs": [],
   "source": [
    "collect_function(1:4) do x\n",
    "    return x^3\n",
    "end"
   ]
  },
  {
   "cell_type": "code",
   "execution_count": null,
   "id": "7b875b3f",
   "metadata": {},
   "outputs": [],
   "source": [
    "map(1:4) do x\n",
    "    return x^3\n",
    "end"
   ]
  },
  {
   "cell_type": "markdown",
   "id": "4142ce38",
   "metadata": {},
   "source": [
    "# Iteration Framework"
   ]
  },
  {
   "cell_type": "code",
   "execution_count": null,
   "id": "74a102b5",
   "metadata": {},
   "outputs": [],
   "source": [
    "v = collect(3:2:10)"
   ]
  },
  {
   "cell_type": "code",
   "execution_count": null,
   "id": "59e6db65",
   "metadata": {},
   "outputs": [],
   "source": [
    "for i=v\n",
    "    println(i)\n",
    "end"
   ]
  },
  {
   "cell_type": "code",
   "execution_count": null,
   "id": "c172a7d5",
   "metadata": {},
   "outputs": [],
   "source": [
    "next = iterate(v)"
   ]
  },
  {
   "cell_type": "code",
   "execution_count": null,
   "id": "2e6eba37",
   "metadata": {},
   "outputs": [],
   "source": [
    "while next !== nothing\n",
    "    value, state = next\n",
    "    println(value)\n",
    "    next = iterate(v, state)\n",
    "end"
   ]
  },
  {
   "cell_type": "markdown",
   "id": "33ddf84e",
   "metadata": {},
   "source": [
    "# iterate Methods|"
   ]
  },
  {
   "cell_type": "markdown",
   "id": "7bfbdc9f",
   "metadata": {},
   "source": [
    "# Optional Methods"
   ]
  },
  {
   "cell_type": "code",
   "execution_count": null,
   "id": "a163ba67",
   "metadata": {},
   "outputs": [],
   "source": [
    "Base.IteratorSize(Vector{Int})"
   ]
  },
  {
   "cell_type": "code",
   "execution_count": null,
   "id": "cf61c9b1",
   "metadata": {},
   "outputs": [],
   "source": [
    "Base.IteratorEltype(Vector{Int})"
   ]
  },
  {
   "cell_type": "code",
   "execution_count": null,
   "id": "a8522067",
   "metadata": {},
   "outputs": [],
   "source": [
    "eltype(Vector{Int})"
   ]
  },
  {
   "cell_type": "markdown",
   "id": "7102bd4c",
   "metadata": {},
   "source": [
    "# Example"
   ]
  },
  {
   "cell_type": "code",
   "execution_count": null,
   "id": "403e5a0d",
   "metadata": {},
   "outputs": [],
   "source": [
    "struct Squares\n",
    "    value::Int\n",
    "end\n",
    "Base.iterate(s::Squares) = s.value <= 0 ? nothing : (1, 2)\n",
    "\n",
    "Base.iterate(s::Squares, state) = s.value < state ? nothing :      \n",
    "    (state*state, state+1)"
   ]
  },
  {
   "cell_type": "code",
   "execution_count": null,
   "id": "324e0eb2",
   "metadata": {},
   "outputs": [],
   "source": [
    "for i=Squares(3)\n",
    "    println(i)\n",
    "end"
   ]
  },
  {
   "cell_type": "code",
   "execution_count": null,
   "id": "8656f443",
   "metadata": {},
   "outputs": [],
   "source": [
    "collect(Squares(3))"
   ]
  },
  {
   "cell_type": "code",
   "execution_count": null,
   "id": "0009363a",
   "metadata": {},
   "outputs": [],
   "source": [
    "Base.length(s::Squares)=s.value"
   ]
  },
  {
   "cell_type": "code",
   "execution_count": null,
   "id": "73a449f2",
   "metadata": {},
   "outputs": [],
   "source": [
    "collect(Squares(3))"
   ]
  },
  {
   "cell_type": "code",
   "execution_count": null,
   "id": "0e618849",
   "metadata": {},
   "outputs": [],
   "source": [
    "Base.eltype(::Type{Squares})=Int"
   ]
  },
  {
   "cell_type": "code",
   "execution_count": null,
   "id": "0127e051",
   "metadata": {},
   "outputs": [],
   "source": [
    "eltype(Squares)"
   ]
  },
  {
   "cell_type": "code",
   "execution_count": null,
   "id": "afae64ab",
   "metadata": {},
   "outputs": [],
   "source": [
    "collect(Squares(3))"
   ]
  },
  {
   "cell_type": "markdown",
   "id": "a9561806",
   "metadata": {},
   "source": [
    "# Generators and Comprehensions"
   ]
  },
  {
   "cell_type": "code",
   "execution_count": null,
   "id": "7e6c8e09",
   "metadata": {},
   "outputs": [],
   "source": [
    "[i*i for i=1:3]"
   ]
  },
  {
   "cell_type": "code",
   "execution_count": null,
   "id": "c7907589",
   "metadata": {},
   "outputs": [],
   "source": [
    "[i*j for i=1:3, j=1:3]"
   ]
  },
  {
   "cell_type": "code",
   "execution_count": null,
   "id": "5df4bff2",
   "metadata": {},
   "outputs": [],
   "source": [
    "[i*j for i=1:3 for j=i:3]"
   ]
  },
  {
   "cell_type": "code",
   "execution_count": null,
   "id": "c7c3d847",
   "metadata": {},
   "outputs": [],
   "source": [
    "gen=(i*j for i=1:3 for j=i:3)"
   ]
  },
  {
   "cell_type": "code",
   "execution_count": null,
   "id": "980c65a7",
   "metadata": {},
   "outputs": [],
   "source": [
    "for v=gen\n",
    "    println(v)\n",
    "end"
   ]
  }
 ],
 "metadata": {
  "kernelspec": {
   "display_name": "Julia 1.6.7",
   "language": "julia",
   "name": "julia-1.6"
  },
  "language_info": {
   "file_extension": ".jl",
   "mimetype": "application/julia",
   "name": "julia",
   "version": "1.6.7"
  }
 },
 "nbformat": 4,
 "nbformat_minor": 5
}
